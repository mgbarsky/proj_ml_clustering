{
 "cells": [
  {
   "cell_type": "markdown",
   "metadata": {},
   "source": [
    "The stored data in the order of PDI,IDV,MAS,UAI,IVR\n",
    "[[61.833333333333336, 26.166666666666668, 48.0, 17.5, 32.54047619047619], [80.22222222222223, 37.666666666666664, 51.44444444444444, 49.22222222222222, 43.66349206349206], [22.77777777777778, 82.22222222222223, 56.111111111111114, 38.888888888888886, 67.55555555555556], [43.083333333333336, 62.916666666666664, 52.75, 72.83333333333333, 43.77023809523809], [33.0, 67.0, 13.0, 52.0, 15.0], [55.63636363636363, 26.636363636363637, 29.90909090909091, 79.45454545454545, 48.13506493506493], [78.77777777777777, 25.11111111111111, 35.666666666666664, 73.55555555555556, 25.83174603174603], [59.583333333333336, 18.083333333333332, 38.25, 47.916666666666664, 38.31071428571428], [20.2, 76.8, 8.0, 33.2, 65.6], [63.857142857142854, 14.428571428571429, 48.714285714285715, 60.0, 86.42857142857143]]"
   ]
  },
  {
   "cell_type": "markdown",
   "metadata": {},
   "source": []
  },
  {
   "cell_type": "markdown",
   "metadata": {},
   "source": [
    "Cluster 1: favor social order, lower individualism, neutral gender orientation, creative, restraint society\n",
    "Cluster 2: strong social order, favor collaboration, neutral gender orientation, moderate creativity, slightly restricted society\n",
    "Cluster 3: higher individual power, favor personal rights, more masculine, tend to be creative, happiness first\n",
    "Cluster 4: lean to individual power, slightly favor individual rights, neutral gender, favor certainty, work slightly hard\n",
    "Cluster 5: favor individualism, personal rights, highly femine, slightly favor creativity, work hard\n",
    "Cluster 6: slightly favor social order, high individual power, femine, favor certainty, word moderate\n",
    "Cluster 7: strong social order, low individual power, femine, favor certainty, work hard\n",
    "Cluster 8: slightly favor social order, low individual power, femine, slighyly favor creativity, word hard\n",
    "Cluster 9: high personal rights, high individual power, femine, favor creativity, happiness prior\n",
    "Cluster 10: slightly favor social order, high individual power, neutral gender orientation, favor certainty, happiness is priority"
   ]
  },
  {
   "cell_type": "markdown",
   "metadata": {},
   "source": [
    "[['China', 'Hong Kong', 'India', 'Jamaica', 'Singapore', 'Vietnam'], ['Kuwait', 'Lebanon', 'Libya', 'Malaysia', 'Morocco', 'Philippines', 'Saudi Arabia', 'Slovak Rep', 'United Arab Emirates'], ['Australia', 'Austria', 'Canada', 'Ireland', 'New Zealand', 'South Africa', 'Switzerland', 'United Kingdom', 'United States'], ['Argentina', 'Belgium', 'Czech Republic', 'France', 'Germany', 'Hungary', 'Israel', 'Italy', 'Japan', 'Malta', 'Poland', 'Spain'], ['Estonia', 'Latvia', 'Lithuania'], ['Brazil', 'Chile', 'Costa Rica', 'Greece', 'Peru', 'Portugal', 'Slovenia', 'South Korea', 'Suriname', 'Turkey', 'Uruguay'], ['Bulgaria', 'Croatia', 'Egypt', 'Guatemala', 'Iraq', 'Panama', 'Romania', 'Russia', 'Serbia'], ['Bangladesh', 'Ecuador', 'Ethiopia', 'Indonesia', 'Iran', 'Kenya', 'Pakistan', 'Sierra Leone', 'Taiwan', 'Tanzania', 'Thailand', 'Zambia'], ['Denmark', 'Finland', 'Netherlands', 'Norway', 'Sweden'], ['Colombia', 'El Salvador', 'Ghana', 'Mexico', 'Nigeria', 'Trinidad and Tobago', 'Venezuela']]"
   ]
  },
  {
   "cell_type": "markdown",
   "metadata": {},
   "source": []
  }
 ],
 "metadata": {
  "language_info": {
   "name": "python"
  },
  "orig_nbformat": 4
 },
 "nbformat": 4,
 "nbformat_minor": 2
}
